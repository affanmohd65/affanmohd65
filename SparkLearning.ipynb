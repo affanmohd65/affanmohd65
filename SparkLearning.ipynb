{
  "nbformat": 4,
  "nbformat_minor": 0,
  "metadata": {
    "colab": {
      "provenance": [],
      "include_colab_link": true
    },
    "kernelspec": {
      "name": "python3",
      "display_name": "Python 3"
    },
    "language_info": {
      "name": "python"
    }
  },
  "cells": [
    {
      "cell_type": "markdown",
      "metadata": {
        "id": "view-in-github",
        "colab_type": "text"
      },
      "source": [
        "<a href=\"https://colab.research.google.com/github/affanmohd65/affanmohd65/blob/main/SparkLearning.ipynb\" target=\"_parent\"><img src=\"https://colab.research.google.com/assets/colab-badge.svg\" alt=\"Open In Colab\"/></a>"
      ]
    },
    {
      "cell_type": "code",
      "source": [
        "!pip install pyspark\n"
      ],
      "metadata": {
        "colab": {
          "base_uri": "https://localhost:8080/"
        },
        "id": "HafvZnnHeRU2",
        "outputId": "b718c169-ceb3-4344-bb84-d2cb77065ba2"
      },
      "execution_count": null,
      "outputs": [
        {
          "output_type": "stream",
          "name": "stdout",
          "text": [
            "Requirement already satisfied: pyspark in /usr/local/lib/python3.10/dist-packages (3.5.1)\n",
            "Requirement already satisfied: py4j==0.10.9.7 in /usr/local/lib/python3.10/dist-packages (from pyspark) (0.10.9.7)\n"
          ]
        }
      ]
    },
    {
      "cell_type": "code",
      "source": [],
      "metadata": {
        "id": "FeQBjNZnfSWK"
      },
      "execution_count": null,
      "outputs": []
    },
    {
      "cell_type": "code",
      "source": [
        "from pyspark.sql import SparkSession\n",
        "from pyspark.ml import Pipeline\n",
        "from pyspark.ml.feature import VectorAssembler, StringIndexer\n",
        "from pyspark.ml.regression import RandomForestRegressor\n",
        "from pyspark.ml.evaluation import RegressionEvaluator\n",
        "from pyspark.ml.feature import OneHotEncoder, StringIndexer\n",
        "from pyspark.ml import Pipeline\n",
        "from pyspark.ml.regression import LinearRegression\n",
        "from pyspark.ml.evaluation import RegressionEvaluator\n",
        "from pyspark.ml.regression import DecisionTreeRegressor\n",
        "from pyspark.ml.feature import RFormula\n",
        "import pandas as pd\n",
        "import click"
      ],
      "metadata": {
        "id": "Ow8wrjJJcg7k"
      },
      "execution_count": null,
      "outputs": []
    },
    {
      "cell_type": "code",
      "source": [
        "spark = SparkSession.builder.appName(\"App\").getOrCreate()"
      ],
      "metadata": {
        "id": "j1CLiVeHchlv"
      },
      "execution_count": null,
      "outputs": []
    },
    {
      "cell_type": "code",
      "source": [
        "filePath = \"ML_Data.parquet\"\n",
        "\n",
        "airbnbDF = spark.read.parquet(filePath)\n",
        "\n",
        "airbnbDF.select(\"neighbourhood_cleansed\", \"room_type\", \"bedrooms\", \"bathrooms\",\n",
        "\"number_of_reviews\", \"price\").show(5)"
      ],
      "metadata": {
        "colab": {
          "base_uri": "https://localhost:8080/"
        },
        "id": "uqsHlOhMctZx",
        "outputId": "9d859e78-529c-4fc8-b4ac-e06da416a528"
      },
      "execution_count": null,
      "outputs": [
        {
          "output_type": "stream",
          "name": "stdout",
          "text": [
            "+----------------------+---------------+--------+---------+-----------------+-----+\n",
            "|neighbourhood_cleansed|      room_type|bedrooms|bathrooms|number_of_reviews|price|\n",
            "+----------------------+---------------+--------+---------+-----------------+-----+\n",
            "|      Western Addition|Entire home/apt|     1.0|      1.0|            180.0|170.0|\n",
            "|        Bernal Heights|Entire home/apt|     2.0|      1.0|            111.0|235.0|\n",
            "|        Haight Ashbury|   Private room|     1.0|      4.0|             17.0| 65.0|\n",
            "|        Haight Ashbury|   Private room|     1.0|      4.0|              8.0| 65.0|\n",
            "|      Western Addition|Entire home/apt|     2.0|      1.5|             27.0|785.0|\n",
            "+----------------------+---------------+--------+---------+-----------------+-----+\n",
            "only showing top 5 rows\n",
            "\n"
          ]
        }
      ]
    },
    {
      "cell_type": "code",
      "source": [
        "trainDF, testDF = airbnbDF.randomSplit([.8, .2], seed=42)\n",
        "\n",
        "print(f\"\"\"There are {trainDF.count()} rows in the training set,\n",
        "and {testDF.count()} in the test set\"\"\")"
      ],
      "metadata": {
        "colab": {
          "base_uri": "https://localhost:8080/"
        },
        "id": "qlmIergwfRG3",
        "outputId": "8cbe150c-6f51-4891-a587-3185cee42fb8"
      },
      "execution_count": null,
      "outputs": [
        {
          "output_type": "stream",
          "name": "stdout",
          "text": [
            "There are 5780 rows in the training set,\n",
            "and 1366 in the test set\n"
          ]
        }
      ]
    },
    {
      "cell_type": "code",
      "source": [
        "vecAssembler = VectorAssembler(inputCols=[\"bedrooms\"], outputCol=\"features\")\n",
        "\n",
        "vecTrainDF = vecAssembler.transform(trainDF)\n",
        "\n",
        "vecTrainDF.select(\"bedrooms\", \"features\", \"price\").show(10)"
      ],
      "metadata": {
        "colab": {
          "base_uri": "https://localhost:8080/"
        },
        "id": "hES-1rfMfShN",
        "outputId": "1dfb2f97-d7b5-40c0-a2b6-4d22b038595b"
      },
      "execution_count": null,
      "outputs": [
        {
          "output_type": "stream",
          "name": "stdout",
          "text": [
            "+--------+--------+-----+\n",
            "|bedrooms|features|price|\n",
            "+--------+--------+-----+\n",
            "|     1.0|   [1.0]|200.0|\n",
            "|     1.0|   [1.0]|130.0|\n",
            "|     1.0|   [1.0]| 95.0|\n",
            "|     1.0|   [1.0]|250.0|\n",
            "|     3.0|   [3.0]|250.0|\n",
            "|     1.0|   [1.0]|115.0|\n",
            "|     1.0|   [1.0]|105.0|\n",
            "|     1.0|   [1.0]| 86.0|\n",
            "|     1.0|   [1.0]|100.0|\n",
            "|     2.0|   [2.0]|220.0|\n",
            "+--------+--------+-----+\n",
            "only showing top 10 rows\n",
            "\n"
          ]
        }
      ]
    },
    {
      "cell_type": "code",
      "source": [
        "lr = LinearRegression(featuresCol=\"features\", labelCol=\"price\")\n",
        "\n",
        "lrModel = lr.fit(vecTrainDF)"
      ],
      "metadata": {
        "id": "4yHEhrncfW2k"
      },
      "execution_count": null,
      "outputs": []
    },
    {
      "cell_type": "code",
      "source": [
        "m = round(lrModel.coefficients[0], 2)\n",
        "b = round(lrModel.intercept, 2)\n",
        "\n",
        "print(f\"\"\"The formula for the linear regression line is\n",
        "price = {m}*bedrooms + {b}\"\"\")"
      ],
      "metadata": {
        "colab": {
          "base_uri": "https://localhost:8080/"
        },
        "id": "XODY6fQKfaIg",
        "outputId": "1103d5cb-f087-428a-fbd3-2e9418daf6ed"
      },
      "execution_count": null,
      "outputs": [
        {
          "output_type": "stream",
          "name": "stdout",
          "text": [
            "The formula for the linear regression line is\n",
            "price = 123.68*bedrooms + 47.51\n"
          ]
        }
      ]
    },
    {
      "cell_type": "code",
      "source": [
        "pipeline = Pipeline(stages=[vecAssembler, lr])\n",
        "\n",
        "pipelineModel = pipeline.fit(trainDF)"
      ],
      "metadata": {
        "id": "Pez38LfGfgnA"
      },
      "execution_count": null,
      "outputs": []
    },
    {
      "cell_type": "code",
      "source": [
        "predDF = pipelineModel.transform(testDF)\n",
        "\n",
        "predDF.select(\"bedrooms\", \"features\", \"price\", \"prediction\").show(10)"
      ],
      "metadata": {
        "colab": {
          "base_uri": "https://localhost:8080/"
        },
        "id": "wQ_iUPssflc5",
        "outputId": "468aeb13-c96b-43a8-9ef6-8fcabc6b87ab"
      },
      "execution_count": null,
      "outputs": [
        {
          "output_type": "stream",
          "name": "stdout",
          "text": [
            "+--------+--------+------+------------------+\n",
            "|bedrooms|features| price|        prediction|\n",
            "+--------+--------+------+------------------+\n",
            "|     1.0|   [1.0]|  85.0|171.18598011578285|\n",
            "|     1.0|   [1.0]|  45.0|171.18598011578285|\n",
            "|     1.0|   [1.0]|  70.0|171.18598011578285|\n",
            "|     1.0|   [1.0]| 128.0|171.18598011578285|\n",
            "|     1.0|   [1.0]| 159.0|171.18598011578285|\n",
            "|     2.0|   [2.0]| 250.0|294.86172649777757|\n",
            "|     1.0|   [1.0]|  99.0|171.18598011578285|\n",
            "|     1.0|   [1.0]|  95.0|171.18598011578285|\n",
            "|     1.0|   [1.0]| 100.0|171.18598011578285|\n",
            "|     1.0|   [1.0]|2010.0|171.18598011578285|\n",
            "+--------+--------+------+------------------+\n",
            "only showing top 10 rows\n",
            "\n"
          ]
        }
      ]
    }
  ]
}